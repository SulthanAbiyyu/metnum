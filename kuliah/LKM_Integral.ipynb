{
 "cells": [
  {
   "cell_type": "code",
   "execution_count": 2,
   "metadata": {},
   "outputs": [
    {
     "data": {
      "text/plain": [
       "0.6912198912198912"
      ]
     },
     "execution_count": 2,
     "metadata": {},
     "output_type": "execute_result"
    }
   ],
   "source": [
    "def rieman_kiri(f, a, b, n):\n",
    "    h = (b-a)/n\n",
    "    sigma = 0\n",
    "    for i in range(0, n):\n",
    "        sigma += f(a + i * h)\n",
    "    return h * sigma\n",
    "\n",
    "def rieman_kanan(f, a, b, n):\n",
    "    h = (b-a)/n\n",
    "    sigma = 0\n",
    "    for i in range(1, n + 1):\n",
    "        sigma += f(a + i * h)\n",
    "    return h * sigma\n",
    "\n",
    "def rieman_tengah(f, a, b, n):\n",
    "    h = (b-a)/n\n",
    "    sigma = 0\n",
    "    for i in range(0, n):\n",
    "        sigma += f(((a + i * h) + (a + (i + 1) * h)) / 2)\n",
    "    return h * sigma\n",
    "\n",
    "def f(x): return 1/x\n",
    "\n",
    "rieman_tengah(f, 1, 2, 4)"
   ]
  },
  {
   "cell_type": "code",
   "execution_count": null,
   "metadata": {},
   "outputs": [],
   "source": []
  }
 ],
 "metadata": {
  "kernelspec": {
   "display_name": "Python 3.9.2 64-bit",
   "language": "python",
   "name": "python3"
  },
  "language_info": {
   "codemirror_mode": {
    "name": "ipython",
    "version": 3
   },
   "file_extension": ".py",
   "mimetype": "text/x-python",
   "name": "python",
   "nbconvert_exporter": "python",
   "pygments_lexer": "ipython3",
   "version": "3.9.2"
  },
  "orig_nbformat": 4,
  "vscode": {
   "interpreter": {
    "hash": "81794d4967e6c3204c66dcd87b604927b115b27c00565d3d43f05ba2f3a2cb0d"
   }
  }
 },
 "nbformat": 4,
 "nbformat_minor": 2
}
