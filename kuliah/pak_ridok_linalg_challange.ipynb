{
 "cells": [
  {
   "cell_type": "code",
   "execution_count": 1,
   "metadata": {},
   "outputs": [],
   "source": [
    "import numpy as np\n",
    "from scipy.linalg import lu\n",
    "import sympy"
   ]
  },
  {
   "cell_type": "code",
   "execution_count": 36,
   "metadata": {},
   "outputs": [
    {
     "name": "stdout",
     "output_type": "stream",
     "text": [
      "1\n"
     ]
    }
   ],
   "source": [
    "# my_is_orthogonal\n",
    "\n",
    "def my_is_orthogonal(v1, v2, tol):\n",
    "\n",
    "    unit_vector1 = v1 / np.linalg.norm(v1)\n",
    "    unit_vector2 = v2 / np.linalg.norm(v2)\n",
    "    dot_product = np.dot(unit_vector1, unit_vector2)\n",
    "    angle = np.arccos(dot_product)\n",
    "    \n",
    "    if abs((np.pi / 2) - angle) < tol:\n",
    "        print(1)\n",
    "    else:\n",
    "        print(0)\n",
    "\n",
    "\n",
    "\n",
    "a = np.array([1, 1])\n",
    "b = np.array([-1, 1])\n",
    "# output: 1\n",
    "my_is_orthogonal(a, b, 1e-10)\n"
   ]
  },
  {
   "cell_type": "code",
   "execution_count": 49,
   "metadata": {},
   "outputs": [
    {
     "name": "stdout",
     "output_type": "stream",
     "text": [
      "Cosine similiarity: 0.9258200997725514\n",
      "1\n"
     ]
    }
   ],
   "source": [
    "# my_is_similiar\n",
    "\n",
    "def my_is_similiar(s1, s2, tol):\n",
    "    v1 = np.zeros(26)\n",
    "    v2 = np.zeros(26)\n",
    "\n",
    "    alphabet = \"abcdefghijklmnopqrstuvwxyz\"\n",
    "    for idx, char in enumerate(alphabet):\n",
    "        count1 = 0\n",
    "        count2 = 0\n",
    "        for s in s1:\n",
    "            if s == char:\n",
    "                count1 += 1\n",
    "        \n",
    "        for ss in s2:\n",
    "            if ss == char:\n",
    "                count2 += 1\n",
    "        \n",
    "        v1[idx] = count1\n",
    "        v2[idx] = count2\n",
    "\n",
    "    cosine_similiarity = np.dot(v1, v2) / (np.linalg.norm(v1) * np.linalg.norm(v2))\n",
    "\n",
    "    print(f\"Cosine similiarity: {cosine_similiarity}\")\n",
    "    if abs(1 - cosine_similiarity) < tol:\n",
    "        print(1)\n",
    "    else:\n",
    "        print(0)\n",
    "\n",
    "my_is_similiar(\"kucing\", \"kucinga\", 1)"
   ]
  },
  {
   "cell_type": "code",
   "execution_count": 4,
   "metadata": {},
   "outputs": [
    {
     "data": {
      "text/plain": [
       "array([[ 12,  11, -24,  15],\n",
       "       [ 19,  10, -31,   9],\n",
       "       [  1,  21,  -5,  20],\n",
       "       [  6,  13, -10,   5],\n",
       "       [ 22,   2, -12,  23]])"
      ]
     },
     "execution_count": 4,
     "metadata": {},
     "output_type": "execute_result"
    }
   ],
   "source": [
    "# Linearly independent\n",
    "\n",
    "def my_make_lin_ind(A):\n",
    "    _, idx = sympy.Matrix(A).rref()\n",
    "    B = []\n",
    "    for id, i in enumerate(idx):\n",
    "        B.append(A[:, i])\n",
    "    \n",
    "    return np.array(B).T\n",
    "    \n",
    "\n",
    "A = np.array([[12,24,0,11,-24,18,15], \n",
    "              [19,38,0,10,-31,25,9], \n",
    "              [1,2,0,21,-5,3,20],\n",
    "              [6,12,0,13,-10,8,5],\n",
    "              [22,44,0,2,-12,17,23]])\n",
    "\n",
    "my_make_lin_ind(A)"
   ]
  },
  {
   "cell_type": "code",
   "execution_count": null,
   "metadata": {},
   "outputs": [],
   "source": []
  }
 ],
 "metadata": {
  "kernelspec": {
   "display_name": "Python 3.9.6 ('DataScience')",
   "language": "python",
   "name": "python3"
  },
  "language_info": {
   "codemirror_mode": {
    "name": "ipython",
    "version": 3
   },
   "file_extension": ".py",
   "mimetype": "text/x-python",
   "name": "python",
   "nbconvert_exporter": "python",
   "pygments_lexer": "ipython3",
   "version": "3.9.6"
  },
  "orig_nbformat": 4,
  "vscode": {
   "interpreter": {
    "hash": "d3120404ab40088dde46363bad1bdd78d1aeca7b6f18e79999fc72cb3d9151a5"
   }
  }
 },
 "nbformat": 4,
 "nbformat_minor": 2
}
