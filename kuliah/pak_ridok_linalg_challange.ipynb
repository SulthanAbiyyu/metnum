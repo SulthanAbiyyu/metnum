{
 "cells": [
  {
   "cell_type": "code",
   "execution_count": 1,
   "metadata": {},
   "outputs": [],
   "source": [
    "import numpy as np\n",
    "from scipy.linalg import lu\n",
    "import sympy"
   ]
  },
  {
   "cell_type": "code",
   "execution_count": 36,
   "metadata": {},
   "outputs": [
    {
     "name": "stdout",
     "output_type": "stream",
     "text": [
      "1\n"
     ]
    }
   ],
   "source": [
    "# my_is_orthogonal\n",
    "\n",
    "def my_is_orthogonal(v1, v2, tol):\n",
    "\n",
    "    unit_vector1 = v1 / np.linalg.norm(v1)\n",
    "    unit_vector2 = v2 / np.linalg.norm(v2)\n",
    "    dot_product = np.dot(unit_vector1, unit_vector2)\n",
    "    angle = np.arccos(dot_product)\n",
    "    \n",
    "    if abs((np.pi / 2) - angle) < tol:\n",
    "        print(1)\n",
    "    else:\n",
    "        print(0)\n",
    "\n",
    "\n",
    "\n",
    "a = np.array([1, 1])\n",
    "b = np.array([-1, 1])\n",
    "# output: 1\n",
    "my_is_orthogonal(a, b, 1e-10)\n"
   ]
  },
  {
   "cell_type": "code",
   "execution_count": 49,
   "metadata": {},
   "outputs": [
    {
     "name": "stdout",
     "output_type": "stream",
     "text": [
      "Cosine similiarity: 0.9258200997725514\n",
      "1\n"
     ]
    }
   ],
   "source": [
    "# my_is_similiar\n",
    "\n",
    "def my_is_similiar(s1, s2, tol):\n",
    "    v1 = np.zeros(26)\n",
    "    v2 = np.zeros(26)\n",
    "\n",
    "    alphabet = \"abcdefghijklmnopqrstuvwxyz\"\n",
    "    for idx, char in enumerate(alphabet):\n",
    "        count1 = 0\n",
    "        count2 = 0\n",
    "        for s in s1:\n",
    "            if s == char:\n",
    "                count1 += 1\n",
    "        \n",
    "        for ss in s2:\n",
    "            if ss == char:\n",
    "                count2 += 1\n",
    "        \n",
    "        v1[idx] = count1\n",
    "        v2[idx] = count2\n",
    "\n",
    "    cosine_similiarity = np.dot(v1, v2) / (np.linalg.norm(v1) * np.linalg.norm(v2))\n",
    "\n",
    "    print(f\"Cosine similiarity: {cosine_similiarity}\")\n",
    "    if abs(1 - cosine_similiarity) < tol:\n",
    "        print(1)\n",
    "    else:\n",
    "        print(0)\n",
    "\n",
    "my_is_similiar(\"kucing\", \"kucinga\", 1)"
   ]
  },
  {
   "cell_type": "code",
   "execution_count": 5,
   "metadata": {},
   "outputs": [
    {
     "data": {
      "text/plain": [
       "array([[ 12,  11, -24,  15],\n",
       "       [ 19,  10, -31,   9],\n",
       "       [  1,  21,  -5,  20],\n",
       "       [  6,  13, -10,   5],\n",
       "       [ 22,   2, -12,  23]])"
      ]
     },
     "execution_count": 5,
     "metadata": {},
     "output_type": "execute_result"
    }
   ],
   "source": [
    "# Linearly independent\n",
    "\n",
    "def my_make_lin_ind(A):\n",
    "    _, idx = sympy.Matrix(A).rref()\n",
    "    B = []\n",
    "    for id, i in enumerate(idx):\n",
    "        B.append(A[:, i])\n",
    "    \n",
    "    return np.array(B).T\n",
    "    \n",
    "\n",
    "A = np.array([[12,24,0,11,-24,18,15], \n",
    "              [19,38,0,10,-31,25,9], \n",
    "              [1,2,0,21,-5,3,20],\n",
    "              [6,12,0,13,-10,8,5],\n",
    "              [22,44,0,2,-12,17,23]])\n",
    "\n",
    "my_make_lin_ind(A)"
   ]
  },
  {
   "cell_type": "code",
   "execution_count": 10,
   "metadata": {},
   "outputs": [
    {
     "data": {
      "text/plain": [
       "array([10.,  5., -1.,  2.,  8.,  0.,  4.])"
      ]
     },
     "execution_count": 10,
     "metadata": {},
     "output_type": "execute_result"
    }
   ],
   "source": [
    "# my_flow_calculator\n",
    "# Note that there may be more than one solution to the system of equations.\n",
    "\n",
    "def my_flow_calculator(S, d):\n",
    "    f = np.zeros(7)\n",
    "    f[0] = S[0]\n",
    "    f[1] = d[2]\n",
    "    f[2] = - (f[0] - f[1] - d[3])\n",
    "    f[3] = d[0] - (-1 * f[2])\n",
    "    f[4] = S[1] - f[3]\n",
    "    f[5] = 0\n",
    "    f[6] = f[4] - d[1]\n",
    "\n",
    "    return f\n",
    "\n",
    "\n",
    "s = np.array([10, 10])\n",
    "d = np.array([3, 4, 5, 4, 4])\n",
    "\n",
    "my_flow_calculator(s, d) # aturan terpenuhi"
   ]
  },
  {
   "cell_type": "code",
   "execution_count": 23,
   "metadata": {},
   "outputs": [
    {
     "data": {
      "text/plain": [
       "-38"
      ]
     },
     "execution_count": 23,
     "metadata": {},
     "output_type": "execute_result"
    }
   ],
   "source": [
    "# cramer rule\n",
    "def two_by_two_det(M):\n",
    "    return M[0][0] * M[1][1] - M[0][1] * M[1][0]\n",
    "\n",
    "def my_rec_det(M):\n",
    "    n = M.shape[0]\n",
    "    det = 0\n",
    "    if M.shape[0] != M.shape[1]:\n",
    "        return \"Not a square matrix\"\n",
    "    if n == 2:\n",
    "        return two_by_two_det(M)\n",
    "    else:\n",
    "        for i in range(n):\n",
    "            det += M[0][i] * (-1) **i * my_rec_det(M[1:, np.r_[0:i, i+1:n]])\n",
    "    return det\n",
    "\n",
    "\n",
    "M = np.array([[0, 2, 1, 3],\n",
    "             [3, 2, 8, 1],\n",
    "             [1, 0, 0, 3],\n",
    "             [0, 3, 2, 1]])\n",
    "             \n",
    "my_rec_det(M)"
   ]
  }
 ],
 "metadata": {
  "kernelspec": {
   "display_name": "Python 3.9.6 ('DataScience')",
   "language": "python",
   "name": "python3"
  },
  "language_info": {
   "codemirror_mode": {
    "name": "ipython",
    "version": 3
   },
   "file_extension": ".py",
   "mimetype": "text/x-python",
   "name": "python",
   "nbconvert_exporter": "python",
   "pygments_lexer": "ipython3",
   "version": "3.9.6"
  },
  "orig_nbformat": 4,
  "vscode": {
   "interpreter": {
    "hash": "d3120404ab40088dde46363bad1bdd78d1aeca7b6f18e79999fc72cb3d9151a5"
   }
  }
 },
 "nbformat": 4,
 "nbformat_minor": 2
}
