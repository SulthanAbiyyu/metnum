{
 "cells": [
  {
   "cell_type": "code",
   "execution_count": 52,
   "metadata": {},
   "outputs": [],
   "source": [
    "import numpy as np\n",
    "from scipy.linalg import lu"
   ]
  },
  {
   "cell_type": "code",
   "execution_count": 36,
   "metadata": {},
   "outputs": [
    {
     "name": "stdout",
     "output_type": "stream",
     "text": [
      "1\n"
     ]
    }
   ],
   "source": [
    "# my_is_orthogonal\n",
    "\n",
    "def my_is_orthogonal(v1, v2, tol):\n",
    "\n",
    "    unit_vector1 = v1 / np.linalg.norm(v1)\n",
    "    unit_vector2 = v2 / np.linalg.norm(v2)\n",
    "    dot_product = np.dot(unit_vector1, unit_vector2)\n",
    "    angle = np.arccos(dot_product)\n",
    "    \n",
    "    if abs((np.pi / 2) - angle) < tol:\n",
    "        print(1)\n",
    "    else:\n",
    "        print(0)\n",
    "\n",
    "\n",
    "\n",
    "a = np.array([1, 1])\n",
    "b = np.array([-1, 1])\n",
    "# output: 1\n",
    "my_is_orthogonal(a, b, 1e-10)\n"
   ]
  },
  {
   "cell_type": "code",
   "execution_count": 49,
   "metadata": {},
   "outputs": [
    {
     "name": "stdout",
     "output_type": "stream",
     "text": [
      "Cosine similiarity: 0.9258200997725514\n",
      "1\n"
     ]
    }
   ],
   "source": [
    "# my_is_similiar\n",
    "\n",
    "def my_is_similiar(s1, s2, tol):\n",
    "    v1 = np.zeros(26)\n",
    "    v2 = np.zeros(26)\n",
    "\n",
    "    alphabet = \"abcdefghijklmnopqrstuvwxyz\"\n",
    "    for idx, char in enumerate(alphabet):\n",
    "        count1 = 0\n",
    "        count2 = 0\n",
    "        for s in s1:\n",
    "            if s == char:\n",
    "                count1 += 1\n",
    "        \n",
    "        for ss in s2:\n",
    "            if ss == char:\n",
    "                count2 += 1\n",
    "        \n",
    "        v1[idx] = count1\n",
    "        v2[idx] = count2\n",
    "\n",
    "    cosine_similiarity = np.dot(v1, v2) / (np.linalg.norm(v1) * np.linalg.norm(v2))\n",
    "\n",
    "    print(f\"Cosine similiarity: {cosine_similiarity}\")\n",
    "    if abs(1 - cosine_similiarity) < tol:\n",
    "        print(1)\n",
    "    else:\n",
    "        print(0)\n",
    "\n",
    "my_is_similiar(\"kucing\", \"kucinga\", 1)"
   ]
  },
  {
   "cell_type": "code",
   "execution_count": 55,
   "metadata": {},
   "outputs": [
    {
     "data": {
      "text/plain": [
       "array([[ 22.        ,  44.        ,   0.        ,   2.        ,\n",
       "        -12.        ,  17.        ,  23.        ],\n",
       "       [  0.        ,   0.        ,   0.        ,   8.27272727,\n",
       "        -20.63636364,  10.31818182, -10.86363636],\n",
       "       [  0.        ,   0.        ,   0.        ,  20.90909091,\n",
       "         -4.45454545,   2.22727273,  18.95454545],\n",
       "       [  0.        ,   0.        ,   0.        ,  12.45454545,\n",
       "         -6.72727273,   3.36363636,  -1.27272727],\n",
       "       [  0.        ,   0.        ,   0.        ,   0.        ,\n",
       "        -12.10218978,   6.05109489,   3.46715328]])"
      ]
     },
     "execution_count": 55,
     "metadata": {},
     "output_type": "execute_result"
    }
   ],
   "source": [
    "# Linearly independent\n",
    "\n",
    "# def my_make_lin_ind(A):\n",
    "    \n",
    "\n",
    "A = np.array([[12,24,0,11,-24,18,15], \n",
    "              [19,38,0,10,-31,25,9], \n",
    "              [1,2,0,21,-5,3,20],\n",
    "              [6,12,0,13,-10,8,5],\n",
    "              [22,44,0,2,-12,17,23]])\n"
   ]
  },
  {
   "cell_type": "code",
   "execution_count": null,
   "metadata": {},
   "outputs": [],
   "source": []
  }
 ],
 "metadata": {
  "kernelspec": {
   "display_name": "Python 3.9.4 64-bit",
   "language": "python",
   "name": "python3"
  },
  "language_info": {
   "codemirror_mode": {
    "name": "ipython",
    "version": 3
   },
   "file_extension": ".py",
   "mimetype": "text/x-python",
   "name": "python",
   "nbconvert_exporter": "python",
   "pygments_lexer": "ipython3",
   "version": "3.9.4"
  },
  "orig_nbformat": 4,
  "vscode": {
   "interpreter": {
    "hash": "82ed002fa2d4956f5c6aec99bcefe0f73a9f79882f3c9e2319b14958a5896ac5"
   }
  }
 },
 "nbformat": 4,
 "nbformat_minor": 2
}
