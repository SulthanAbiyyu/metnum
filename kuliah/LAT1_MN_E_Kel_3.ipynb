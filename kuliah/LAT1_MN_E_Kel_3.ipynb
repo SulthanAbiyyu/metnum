{
  "nbformat": 4,
  "nbformat_minor": 0,
  "metadata": {
    "colab": {
      "provenance": [],
      "collapsed_sections": []
    },
    "kernelspec": {
      "name": "python3",
      "display_name": "Python 3"
    },
    "language_info": {
      "name": "python"
    }
  },
  "cells": [
    {
      "cell_type": "markdown",
      "source": [
        "# Metnum Kelompok 3 TIF-E\n",
        "\n",
        "### Anggota:\n",
        "1. Alfred Josafat Elyazar 215150207111046\n",
        "2. Sulthan Abiyyu Hakim 215150201111011\n",
        "3. Aditya Rizky Ramadhan 215150201111007\n",
        "4. Muhammad Ubaidillah 215150201111010"
      ],
      "metadata": {
        "id": "7hHCDDzoQnt0"
      }
    },
    {
      "cell_type": "markdown",
      "source": [
        "## Latihan 1.\n",
        "- Jalankan program berikut, perhatikan hasilnya.\n",
        "- Ubah program berikut dalam bentuk comprehension dengan hasil yang sama "
      ],
      "metadata": {
        "id": "x-CJ5wGdwOu3"
      }
    },
    {
      "cell_type": "code",
      "execution_count": 1,
      "metadata": {
        "id": "tX6fL1eKmA2g",
        "colab": {
          "base_uri": "https://localhost:8080/"
        },
        "outputId": "89f4c4c9-7bb3-4284-d000-95b36a6895d7"
      },
      "outputs": [
        {
          "output_type": "execute_result",
          "data": {
            "text/plain": [
              "[0, 2, 4, 6, 8, 10, 12, 14, 16, 18]"
            ]
          },
          "metadata": {},
          "execution_count": 1
        }
      ],
      "source": [
        "y = []\n",
        "for i in range(10):\n",
        "    for j in range(10):\n",
        "        if i == j:\n",
        "            y.append(i+j)\n",
        "y"
      ]
    },
    {
      "cell_type": "code",
      "source": [
        "y = [i+j for i in range(10) for j in range(10) if i == j]\n",
        "y"
      ],
      "metadata": {
        "id": "UJoJi31EonP7",
        "colab": {
          "base_uri": "https://localhost:8080/"
        },
        "outputId": "5e737ee9-bd54-47ab-a069-c55c4a133115"
      },
      "execution_count": 2,
      "outputs": [
        {
          "output_type": "execute_result",
          "data": {
            "text/plain": [
              "[0, 2, 4, 6, 8, 10, 12, 14, 16, 18]"
            ]
          },
          "metadata": {},
          "execution_count": 2
        }
      ]
    },
    {
      "cell_type": "markdown",
      "source": [
        "# Latihan 2.\n",
        "Write a function my_max(x) to return the maximum (largest) value in x. Don’t use the built-in Python function max."
      ],
      "metadata": {
        "id": "hjVB8H8QwtkA"
      }
    },
    {
      "cell_type": "code",
      "source": [
        "def my_max(x):\n",
        "  max = x[0]\n",
        "  for i in x:\n",
        "    if i > max:\n",
        "      max = i\n",
        "  return max\n",
        "\n",
        "  \n",
        "x = [10,1,3,9,20,21]\n",
        "max = my_max(x)\n",
        "max"
      ],
      "metadata": {
        "id": "kVRVsZVgwyLS",
        "colab": {
          "base_uri": "https://localhost:8080/"
        },
        "outputId": "4cbd1385-f7f1-468b-ad7b-52b7a8125ee9"
      },
      "execution_count": 3,
      "outputs": [
        {
          "output_type": "execute_result",
          "data": {
            "text/plain": [
              "21"
            ]
          },
          "metadata": {},
          "execution_count": 3
        }
      ]
    },
    {
      "cell_type": "markdown",
      "source": [
        "# Latihan 3\n",
        "Write a function my_n_max(x, n) to return a list consisting of the n largest elements of x. You may use the my_max function you have created . You may also assume that x is a one-dimensional list with no duplicate entries, and that n is strictly positive integer smaller than the length of x\n",
        "\n"
      ],
      "metadata": {
        "id": "VIir4rK8xnBx"
      }
    },
    {
      "cell_type": "code",
      "source": [
        "x = [7, 9, 10, 5, 8, 3, 4, 6, 2, 1]\n",
        "\n",
        "def my_n_max(x, n):\n",
        "  out = []\n",
        "  for i in range(n):\n",
        "    out.append(my_max(x))\n",
        "    x.remove(my_max(x))\n",
        "  return out\n",
        "\n",
        "  return out\n",
        "\n",
        "x = [7, 9, 10, 5, 8, 3, 4, 6, 2, 1]\n",
        "n = 3\n",
        "out = my_n_max(x, n)\n",
        "print(out)"
      ],
      "metadata": {
        "colab": {
          "base_uri": "https://localhost:8080/"
        },
        "id": "sq7FONxZ1nMZ",
        "outputId": "0ea421a1-2b33-4944-e4ea-f3b03380ddc2"
      },
      "execution_count": 15,
      "outputs": [
        {
          "output_type": "stream",
          "name": "stdout",
          "text": [
            "[10, 9, 8]\n"
          ]
        }
      ]
    },
    {
      "cell_type": "markdown",
      "source": [
        "Jika diberikan data sebagai berikut :\n",
        "\n",
        "x = [7, 9, 10, 5, 8, 3, 4, 6, 2, 1]\n",
        "\n",
        "n = 3\n",
        "\n",
        "maka hasilnya :\n",
        "\n",
        "out = my_n_max(x, n)\n",
        "\n",
        "print(out)\n",
        "\n",
        "[10, 9, 8]\n"
      ],
      "metadata": {
        "id": "hP0nMdUn_kCi"
      }
    },
    {
      "cell_type": "markdown",
      "source": [
        "# Latihan 4\n",
        "Let m be a matrix of positive integers. Write a function my_trig_odd_even(m) to return an array q, where q[i, j] = sin (m[i, j]) if m[i, j] is even, and q[i, j] = cos (m[i, j]) if m[i, j] is odd."
      ],
      "metadata": {
        "id": "Qookm5fW59Bf"
      }
    },
    {
      "cell_type": "code",
      "source": [
        "import numpy as np\n",
        "\n",
        "def my_trig_odd_even(m):\n",
        "  q = []\n",
        "  for i in range(len(m)):\n",
        "    for j in range(len(m[0])):\n",
        "      if m[i][j] % 2 == 0:\n",
        "        q.append(np.sin(m[i][j]))\n",
        "      else:\n",
        "        q.append(np.cos(m[i][j]))\n",
        "  return q\n",
        "\n",
        "m = list([\n",
        "    [1,2,3],\n",
        "    [4,5,6]\n",
        "    ])\n",
        "\n",
        "q = my_trig_odd_even(m)\n",
        "q"
      ],
      "metadata": {
        "colab": {
          "base_uri": "https://localhost:8080/"
        },
        "id": "Q1OyNosw6OdA",
        "outputId": "191d7a71-c872-496a-c8c6-a2568f9df611"
      },
      "execution_count": 13,
      "outputs": [
        {
          "output_type": "execute_result",
          "data": {
            "text/plain": [
              "[0.5403023058681398,\n",
              " 0.9092974268256817,\n",
              " -0.9899924966004454,\n",
              " -0.7568024953079282,\n",
              " 0.28366218546322625,\n",
              " -0.27941549819892586]"
            ]
          },
          "metadata": {},
          "execution_count": 13
        }
      ]
    },
    {
      "cell_type": "markdown",
      "source": [
        "Jika diberikan data sebagai berikut \n",
        "\n",
        "m = list([[1,2,3],[4,5,6]])\n",
        "\n",
        "q = my_trig_odd_even(m)\n",
        "\n",
        "q\n",
        "\n",
        "maka hasilnya \n",
        "\n",
        "[0.5403023058681398,\n",
        " 0.9092974268256817,\n",
        " -0.9899924966004454,\n",
        " -0.7568024953079282,\n",
        " 0.28366218546322625,\n",
        " -0.27941549819892586]\n",
        "\n"
      ],
      "metadata": {
        "id": "tOP9k9icAA0A"
      }
    },
    {
      "cell_type": "markdown",
      "source": [
        "#Latihan 5\n",
        "Write a function with my_find(M), where output is a list of indices i where M[i] is 1. You may assume that M is a list of only ones and zeros. Do not use the built-in Python function find.\n",
        "\n",
        "\n",
        "\n",
        "Jika diberikan \n",
        "\n",
        "M = [1,0,1,1,0,0,1]\n",
        "\n",
        "my_find(M)\n",
        "\n",
        "Keluarannya :\n",
        "\n",
        "[0, 2, 3, 6]"
      ],
      "metadata": {
        "id": "OYKMERlRHUGR"
      }
    },
    {
      "cell_type": "code",
      "source": [
        "def my_find(M):\n",
        "  indices = []\n",
        "  for idx, value in enumerate(M):\n",
        "    if value == 1:\n",
        "      indices.append(idx)\n",
        "  \n",
        "  return indices\n",
        "\n",
        "M =  [1,0,1,1,0,0,1]\n",
        "print(my_find(M))"
      ],
      "metadata": {
        "colab": {
          "base_uri": "https://localhost:8080/"
        },
        "id": "HR9oyB-8QLJB",
        "outputId": "887c296b-fb5a-489e-ec25-89cbd9dca236"
      },
      "execution_count": 14,
      "outputs": [
        {
          "output_type": "stream",
          "name": "stdout",
          "text": [
            "[0, 2, 3, 6]\n"
          ]
        }
      ]
    }
  ]
}