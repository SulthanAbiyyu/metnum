{
 "cells": [
  {
   "cell_type": "code",
   "execution_count": 1,
   "metadata": {},
   "outputs": [],
   "source": [
    "import numpy as np"
   ]
  },
  {
   "cell_type": "code",
   "execution_count": 12,
   "metadata": {},
   "outputs": [
    {
     "name": "stdout",
     "output_type": "stream",
     "text": [
      "2.1896044666666663\n"
     ]
    }
   ],
   "source": [
    "x = [8.0, 9.0, 9.5, 11.0]\n",
    "y = [2.079442, 2.197225, 2.251292, 2.397895]\n",
    "\n",
    "n = len(x)\n",
    "\n",
    "ST = np.zeros((n, n))\n",
    "\"\"\"\n",
    "[[0. 0. 0. 0.]\n",
    " [0. 0. 0. 0.]\n",
    " [0. 0. 0. 0.]\n",
    " [0. 0. 0. 0.]]\n",
    "\"\"\"\n",
    "\n",
    "for k in range(n):\n",
    "    ST[k][0] = y[k]\n",
    "\n",
    "\"\"\"\n",
    "[[2.079442 0.       0.       0.      ]\n",
    " [2.197225 0.       0.       0.      ]\n",
    " [2.251292 0.       0.       0.      ]\n",
    " [2.397895 0.       0.       0.      ]]\n",
    "\"\"\"\n",
    "\n",
    "for k in range(1, n): # kolom\n",
    "    for i in range(0, n-k): # baris\n",
    "        ST[i][k] = (ST[i+1][k-1] - ST[i][k-1]) / (x[i+k] - x[i])\n",
    "\"\"\"\n",
    "[[ 2.07944200e+00  1.17783000e-01 -6.43266667e-03  4.11111111e-04]\n",
    " [ 2.19722500e+00  1.08134000e-01 -5.19933333e-03  0.00000000e+00]\n",
    " [ 2.25129200e+00  9.77353333e-02  0.00000000e+00  0.00000000e+00]\n",
    " [ 2.39789500e+00  0.00000000e+00  0.00000000e+00  0.00000000e+00]]\n",
    "\"\"\"\n",
    "\n",
    "# misalkan yang mau diprediksi adalah x_input = 9.2\n",
    "x_input = 9.2\n",
    "\n",
    "jumlah = ST[0][0] # a0\n",
    "\n",
    "for i in range(1, n):\n",
    "    suku = 0\n",
    "    a_i = ST[0][i] # a ke i\n",
    "    suku = suku + a_i\n",
    "    for k in range(0, i-1):\n",
    "        suku = suku * (x_input-x[k])\n",
    "\n",
    "    jumlah = jumlah + suku\n",
    "\n",
    "newton = jumlah \n",
    "print(newton)\n"
   ]
  },
  {
   "cell_type": "code",
   "execution_count": 15,
   "metadata": {},
   "outputs": [],
   "source": [
    "# Versi fungsinya\n",
    "\n",
    "def membuat_ST(x, y):\n",
    "    n = len(x)\n",
    "    ST = np.zeros((n, n))\n",
    "    for k in range(n):\n",
    "        ST[k][0] = y[k]\n",
    "    for k in range(1, n):  # kolom\n",
    "        for i in range(0, n-k):  # baris\n",
    "            ST[i][k] = (ST[i+1][k-1] - ST[i][k-1]) / (x[i+k] - x[i])\n",
    "    \n",
    "    return ST\n",
    "    \n",
    "def newton_polynom(x_input, ST):\n",
    "    jumlah = ST[0][0]  # a0\n",
    "    n = len(ST[0])\n",
    "    for i in range(1, n):\n",
    "        suku = 0\n",
    "        a_i = ST[0][i]  # a ke i\n",
    "        suku = suku + a_i\n",
    "        for k in range(0, i-1):\n",
    "            suku = suku * (x_input-x[k])\n",
    "\n",
    "        jumlah = jumlah + suku\n",
    "\n",
    "    y_newton = jumlah\n",
    "    return y_newton"
   ]
  }
 ],
 "metadata": {
  "kernelspec": {
   "display_name": "Python 3.9.4 64-bit",
   "language": "python",
   "name": "python3"
  },
  "language_info": {
   "codemirror_mode": {
    "name": "ipython",
    "version": 3
   },
   "file_extension": ".py",
   "mimetype": "text/x-python",
   "name": "python",
   "nbconvert_exporter": "python",
   "pygments_lexer": "ipython3",
   "version": "3.9.4"
  },
  "orig_nbformat": 4,
  "vscode": {
   "interpreter": {
    "hash": "82ed002fa2d4956f5c6aec99bcefe0f73a9f79882f3c9e2319b14958a5896ac5"
   }
  }
 },
 "nbformat": 4,
 "nbformat_minor": 2
}
