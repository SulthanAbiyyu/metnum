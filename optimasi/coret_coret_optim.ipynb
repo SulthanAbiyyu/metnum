{
 "cells": [
  {
   "cell_type": "code",
   "execution_count": 1,
   "metadata": {},
   "outputs": [],
   "source": [
    "import torch\n",
    "import numpy as np"
   ]
  },
  {
   "cell_type": "code",
   "execution_count": 31,
   "metadata": {},
   "outputs": [
    {
     "data": {
      "text/plain": [
       "tensor(2., grad_fn=<CopyBackwards>)"
      ]
     },
     "execution_count": 31,
     "metadata": {},
     "output_type": "execute_result"
    }
   ],
   "source": [
    "x = torch.tensor(2., requires_grad=True)\n",
    "y = torch.tensor(1., requires_grad=True)\n",
    "\n",
    "f = x ** 2 + y ** 2 + 2 * x + 4 # 2x + 2 -> 2\n",
    "f.backward(create_graph=True)\n",
    "\n",
    "partial_x = x.grad\n",
    "x.grad.data.zero_() # PENTINGG, KALO GA GINI BAKAL KE SUM\n",
    "y.grad.data.zero_()\n",
    "\n",
    "partial_x.backward()\n",
    "x.grad"
   ]
  },
  {
   "cell_type": "code",
   "execution_count": 81,
   "metadata": {},
   "outputs": [
    {
     "name": "stdout",
     "output_type": "stream",
     "text": [
      "<class 'torch.Tensor'>\n",
      "tensor(14., grad_fn=<CloneBackward0>)\n",
      "tensor(12., grad_fn=<CopyBackwards>)\n"
     ]
    }
   ],
   "source": [
    "x = torch.tensor(2., requires_grad=True)\n",
    "g = x ** 3 + 2 * x\n",
    "print(type(g))\n",
    "# print(g)\n",
    "g.backward(create_graph=True)\n",
    "first = x.grad.clone()\n",
    "\n",
    "x.grad.data.zero_()\n",
    "x.grad.backward()\n",
    "print(first)\n",
    "print(x.grad)"
   ]
  }
 ],
 "metadata": {
  "kernelspec": {
   "display_name": "Python 3.9.6 ('DataScience')",
   "language": "python",
   "name": "python3"
  },
  "language_info": {
   "codemirror_mode": {
    "name": "ipython",
    "version": 3
   },
   "file_extension": ".py",
   "mimetype": "text/x-python",
   "name": "python",
   "nbconvert_exporter": "python",
   "pygments_lexer": "ipython3",
   "version": "3.9.6"
  },
  "orig_nbformat": 4,
  "vscode": {
   "interpreter": {
    "hash": "d3120404ab40088dde46363bad1bdd78d1aeca7b6f18e79999fc72cb3d9151a5"
   }
  }
 },
 "nbformat": 4,
 "nbformat_minor": 2
}
