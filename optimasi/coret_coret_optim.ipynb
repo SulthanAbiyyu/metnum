{
 "cells": [
  {
   "cell_type": "code",
   "execution_count": 7,
   "metadata": {},
   "outputs": [],
   "source": [
    "import torch\n",
    "import numpy as np"
   ]
  },
  {
   "cell_type": "code",
   "execution_count": 31,
   "metadata": {},
   "outputs": [
    {
     "data": {
      "text/plain": [
       "tensor(2., grad_fn=<CopyBackwards>)"
      ]
     },
     "execution_count": 31,
     "metadata": {},
     "output_type": "execute_result"
    }
   ],
   "source": [
    "x = torch.tensor(2., requires_grad=True)\n",
    "y = torch.tensor(1., requires_grad=True)\n",
    "\n",
    "f = x ** 2 + y ** 2 + 2 * x + 4 # 2x + 2 -> 2\n",
    "f.backward(create_graph=True)\n",
    "\n",
    "partial_x = x.grad\n",
    "x.grad.data.zero_() # PENTINGG, KALO GA GINI BAKAL KE SUM\n",
    "y.grad.data.zero_()\n",
    "\n",
    "partial_x.backward()\n",
    "x.grad"
   ]
  },
  {
   "cell_type": "code",
   "execution_count": 81,
   "metadata": {},
   "outputs": [
    {
     "name": "stdout",
     "output_type": "stream",
     "text": [
      "<class 'torch.Tensor'>\n",
      "tensor(14., grad_fn=<CloneBackward0>)\n",
      "tensor(12., grad_fn=<CopyBackwards>)\n"
     ]
    }
   ],
   "source": [
    "x = torch.tensor(2., requires_grad=True)\n",
    "g = x ** 3 + 2 * x\n",
    "print(type(g))\n",
    "# print(g)\n",
    "g.backward(create_graph=True)\n",
    "first = x.grad.clone()\n",
    "\n",
    "x.grad.data.zero_()\n",
    "x.grad.backward()\n",
    "print(first)\n",
    "print(x.grad)"
   ]
  },
  {
   "cell_type": "code",
   "execution_count": 43,
   "metadata": {},
   "outputs": [],
   "source": [
    "def newton_optimization(fx, x0, n_iter: int = 10):\n",
    "\n",
    "    def diff(f, x, h=0.0001):\n",
    "        return (8 * f(x + h) - 8 * f(x - h) - (f(x + 2*h) - f(x - 2*h))) / (12 * h)\n",
    "\n",
    "    def second_diff(f, x, h=0.0001):\n",
    "        return 1/h**2 * (f(x-h) - 2*f(x) + f(x+h))\n",
    "    for _ in range(n_iter):\n",
    "        x0 = x0 - (diff(fx, x0) / second_diff(fx, x0))\n",
    "\n",
    "    return x0\n"
   ]
  },
  {
   "cell_type": "code",
   "execution_count": 4,
   "metadata": {},
   "outputs": [
    {
     "data": {
      "text/plain": [
       "-0.5000303494662752"
      ]
     },
     "execution_count": 4,
     "metadata": {},
     "output_type": "execute_result"
    }
   ],
   "source": [
    "g = lambda h: 40 * h ** 2 + 40 * h + 13\n",
    "\n",
    "newton_optimization(g, 20)"
   ]
  },
  {
   "cell_type": "code",
   "execution_count": 27,
   "metadata": {},
   "outputs": [],
   "source": [
    "def diff(f, x, h=0.0001):\n",
    "    return (8 * f(x + h) - 8 * f(x - h) - (f(x + 2*h) - f(x - 2*h))) / (12 * h)\n"
   ]
  },
  {
   "cell_type": "code",
   "execution_count": 44,
   "metadata": {},
   "outputs": [
    {
     "name": "stdout",
     "output_type": "stream",
     "text": [
      "Before: 13\n",
      "After: 3.0\n",
      "[-1.00000000e+00  2.66564548e-12]\n"
     ]
    }
   ],
   "source": [
    "# fxy = lambda x, y: x ** 2 + y ** 2 + 2 * x + 4\n",
    "fxy = lambda x, y: 2 * x * y + 2*x - x ** 2 - 2 * y ** 2\n",
    "# X = np.array([2, 1])\n",
    "X = np.array([-1, 1])\n",
    "\n",
    "def gradient(f, X, h=0.0001):\n",
    "    return np.array([diff(lambda x: f(x, X[1]), X[0], h), diff(lambda y: f(X[0], y), X[1], h)])\n",
    "\n",
    "def g(h):\n",
    "    return fxy(X[0] + gradient(fxy, X)[0] * h, X[1] + gradient(fxy, X)[1] * h)\n",
    "\n",
    "h = newton_optimization(g, 20)\n",
    "X_new = X + h * gradient(fxy, X)\n",
    "print(f\"Before: {fxy(X[0], X[1])}\")\n",
    "print(f\"After: {fxy(X_new[0], X_new[1])}\")\n",
    "print(X_new)\n"
   ]
  },
  {
   "cell_type": "code",
   "execution_count": 47,
   "metadata": {},
   "outputs": [
    {
     "name": "stdout",
     "output_type": "stream",
     "text": [
      "[ 0.2 -0.2]\n",
      "[1.4 1. ]\n",
      "[1.64 0.76]\n",
      "[1.88 1.  ]\n",
      "[1.928 0.952]\n",
      "[1.976 1.   ]\n",
      "[1.9856 0.9904]\n",
      "[1.9952 1.    ]\n",
      "[1.99712 0.99808]\n",
      "[1.99904 1.     ]\n",
      "[1.999424 0.999616]\n",
      "[1.99980801 1.        ]\n",
      "[1.9998848 0.9999232]\n"
     ]
    },
    {
     "data": {
      "text/plain": [
       "array([1.9998848, 0.9999232])"
      ]
     },
     "execution_count": 47,
     "metadata": {},
     "output_type": "execute_result"
    }
   ],
   "source": [
    "# fxy = lambda x, y: x ** 2 + y ** 2 + 2 * x + 4\n",
    "def fxy(x, y): return 2 * x * y + 2*x - x ** 2 - 2 * y ** 2\n",
    "\n",
    "\n",
    "# X = np.array([2, 1])\n",
    "X = np.array([-1, 1])\n",
    "\n",
    "def steepest_descent_ascent(fxy, X: np.array, n_iter: int = 13) -> np.array:\n",
    "    def diff(f, x, h=0.0001):\n",
    "        return (8 * f(x + h) - 8 * f(x - h) - (f(x + 2*h) - f(x - 2*h))) / (12 * h)\n",
    "\n",
    "    def gradient(f, X, h=0.0001):\n",
    "        return np.array([diff(lambda x: f(x, X[1]), X[0], h), diff(lambda y: f(X[0], y), X[1], h)])\n",
    "\n",
    "    for _ in range(n_iter):\n",
    "        def g(h):\n",
    "            return fxy(X[0] + gradient(fxy, X)[0] * h, X[1] + gradient(fxy, X)[1] * h)\n",
    "\n",
    "        h = newton_optimization(g, 0.5)\n",
    "        X = X + gradient(fxy, X) * h\n",
    "        print(X)\n",
    "    return X\n",
    "\n",
    "steepest_descent_ascent(fxy, X)"
   ]
  },
  {
   "cell_type": "code",
   "execution_count": null,
   "metadata": {},
   "outputs": [],
   "source": []
  }
 ],
 "metadata": {
  "kernelspec": {
   "display_name": "Python 3.9.6 ('DataScience')",
   "language": "python",
   "name": "python3"
  },
  "language_info": {
   "codemirror_mode": {
    "name": "ipython",
    "version": 3
   },
   "file_extension": ".py",
   "mimetype": "text/x-python",
   "name": "python",
   "nbconvert_exporter": "python",
   "pygments_lexer": "ipython3",
   "version": "3.9.6"
  },
  "orig_nbformat": 4,
  "vscode": {
   "interpreter": {
    "hash": "d3120404ab40088dde46363bad1bdd78d1aeca7b6f18e79999fc72cb3d9151a5"
   }
  }
 },
 "nbformat": 4,
 "nbformat_minor": 2
}
